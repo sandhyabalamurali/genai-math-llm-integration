{
  "nbformat": 4,
  "nbformat_minor": 0,
  "metadata": {
    "colab": {
      "provenance": []
    },
    "kernelspec": {
      "name": "python3",
      "display_name": "Python 3"
    },
    "language_info": {
      "name": "python"
    }
  },
  "cells": [
    {
      "cell_type": "code",
      "execution_count": 8,
      "metadata": {
        "colab": {
          "base_uri": "https://localhost:8080/"
        },
        "id": "Rmg8u_14jVZt",
        "outputId": "b52ec2c4-5893-4fcc-ab5b-31c42a2e2e02"
      },
      "outputs": [
        {
          "output_type": "stream",
          "name": "stdout",
          "text": [
            "Query: What is the volume of a cylinder with radius 4 and height 5?\n",
            "Response: The volume of the cylinder with radius 4.0 and height 5.0 is 251.33 cubic units.\n",
            "\n",
            "Query: Calculate the volume of a cylinder with radius 10 and height -5.\n",
            "Response: Radius and height must be positive values.\n",
            "\n",
            "Query: How to find the volume of a cylinder?\n",
            "Response: Please provide valid radius and height in your query.\n",
            "\n"
          ]
        }
      ],
      "source": [
        "import math\n",
        "import re\n",
        "\n",
        "def calculate_cylinder_volume(radius: float, height: float) -> float:\n",
        "    \"\"\"Calculate the volume of a cylinder given its radius and height.\"\"\"\n",
        "    if radius <= 0 or height <= 0:\n",
        "        return \"Radius and height must be positive values.\"\n",
        "    return math.pi * radius**2 * height\n",
        "\n",
        "\n",
        "def chat_with_llm(query: str) -> str:\n",
        "    \"\"\"Process user query to calculate cylinder volume.\"\"\"\n",
        "    if \"cylinder\" in query.lower() and \"volume\" in query.lower():\n",
        "        # Use regex to extract radius and height\n",
        "        radius = re.search(r\"radius\\s*(-?\\d+(\\.\\d+)?)\", query, re.IGNORECASE)\n",
        "        height = re.search(r\"height\\s*(-?\\d+(\\.\\d+)?)\", query, re.IGNORECASE)\n",
        "\n",
        "        if radius and height:\n",
        "            # Convert matched groups to float\n",
        "            radius = float(radius.group(1))\n",
        "            height = float(height.group(1))\n",
        "\n",
        "            # Calculate the volume\n",
        "            result = calculate_cylinder_volume(radius, height)\n",
        "            if isinstance(result, str):  # Error message from the function\n",
        "                return result\n",
        "            return f\"The volume of the cylinder with radius {radius} and height {height} is {result:.2f} cubic units.\"\n",
        "        else:\n",
        "            return \"Please provide valid radius and height in your query.\"\n",
        "\n",
        "    return \"I can help you calculate the volume of a cylinder. Please specify the radius and height.\"\n",
        "\n",
        "\n",
        "# Test cases\n",
        "queries = [\n",
        "    \"What is the volume of a cylinder with radius 4 and height 5?\",\n",
        "    \"Calculate the volume of a cylinder with radius 10 and height -5.\",\n",
        "    \"How to find the volume of a cylinder?\",\n",
        "]\n",
        "\n",
        "for query in queries:\n",
        "    print(f\"Query: {query}\")\n",
        "    response = chat_with_llm(query)\n",
        "    print(f\"Response: {response}\\n\")\n"
      ]
    }
  ]
}